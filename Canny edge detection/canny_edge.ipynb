{
 "cells": [
  {
   "cell_type": "code",
   "execution_count": 26,
   "metadata": {},
   "outputs": [],
   "source": [
    "import cv2\n",
    "import numpy as np\n",
    "import math"
   ]
  },
  {
   "cell_type": "markdown",
   "metadata": {},
   "source": [
    "Reading input image"
   ]
  },
  {
   "cell_type": "code",
   "execution_count": 34,
   "metadata": {},
   "outputs": [],
   "source": [
    "image = cv2.imread(\"input_image.png\")\n",
    "\n",
    "image_grayscale = cv2.cvtColor(image, cv2.COLOR_BGR2GRAY)\n",
    "image_padded = np.pad(image_grayscale, ((1, 1), (1, 1)), 'constant', constant_values=255)  # 1 pixel padding\n",
    "blurred = cv2.GaussianBlur(image_padded, (5, 5), 0)  # 5x5 kernel gaussian blur\n",
    "h, w = blurred.shape"
   ]
  },
  {
   "cell_type": "markdown",
   "metadata": {},
   "source": [
    "Findings edges of the input image (Canny's algorithm)"
   ]
  },
  {
   "cell_type": "code",
   "execution_count": null,
   "metadata": {},
   "outputs": [
    {
     "data": {
      "text/plain": [
       "True"
      ]
     },
     "execution_count": 38,
     "metadata": {},
     "output_type": "execute_result"
    }
   ],
   "source": [
    "final = np.zeros((h, w), dtype=np.uint8)\n",
    "\n",
    "# hyperparameter\n",
    "low_thr = 6\n",
    "\n",
    "# calculating gradient angle and intensivity for each pixel \n",
    "\n",
    "grad_angle = np.zeros((h, w))\n",
    "grad_intense = np.zeros((h, w))\n",
    "angles_list = [-180, -135, -90, -45, 0, 45, 90, 135, 180]\n",
    "\n",
    "for i in range(1, h-1):\n",
    "  for j in range(1, w-1):\n",
    "    grad_x = (int(blurred[i][j + 1]) -  int(blurred[i][j - 1])) / 2\n",
    "    grad_y = (int(blurred[i + 1][j]) -  int(blurred[i - 1][j])) / 2\n",
    "\n",
    "    grad_intense[i][j] = math.sqrt(grad_x ** 2 + grad_y ** 2)\n",
    "    grad_angle[i][j] = round(math.degrees(math.atan2(grad_y, grad_x)))\n",
    "\n",
    "\n",
    "# deciding the direction of the gradient\n",
    "\n",
    "for i in range(1, h-1):\n",
    "    for j in range(1, w-1):\n",
    "\n",
    "        pixel_angle = grad_angle[i][j]\n",
    "        pixel_intense = grad_intense[i][j]\n",
    "        angles_diff = [0 for _ in range(9)]\n",
    "\n",
    "        for idx, angle in enumerate(angles_list):\n",
    "            angles_diff[idx] = abs(pixel_angle - angle)\n",
    "\n",
    "        angle = min(angles_diff)\n",
    "        index =  angles_diff.index(angle)\n",
    "        angle = angles_list[index]\n",
    "\n",
    "        if angle == -180 or angle == 180 or angle == 0:\n",
    "            pixel_1 = grad_intense[i][j - 1]\n",
    "            pixel_2 = grad_intense[i][j + 1]\n",
    "        elif angle == 45 or angle == -135:\n",
    "            pixel_1 = grad_intense[i - 1][j - 1]\n",
    "            pixel_2 = grad_intense[i + 1][j + 1]\n",
    "        elif angle == 90 or angle == -90:\n",
    "            pixel_1 = grad_intense[i - 1][j]\n",
    "            pixel_2 = grad_intense[i + 1][j]\n",
    "        elif angle == -45 or angle == 135:\n",
    "            pixel_1 = grad_intense[i + 1][j - 1]\n",
    "            pixel_2 = grad_intense[i - 1][j + 1]\n",
    "\n",
    "        # checking if the pixel is considered as edge\n",
    "\n",
    "        if pixel_intense > pixel_1 and pixel_intense > pixel_2 and pixel_intense > low_thr:\n",
    "            final[i][j] = 255\n",
    "        else:\n",
    "            final[i][j] = 0\n",
    "\n",
    "cv2.imwrite(\"edges.png\", final)"
   ]
  }
 ],
 "metadata": {
  "kernelspec": {
   "display_name": "env",
   "language": "python",
   "name": "python3"
  },
  "language_info": {
   "codemirror_mode": {
    "name": "ipython",
    "version": 3
   },
   "file_extension": ".py",
   "mimetype": "text/x-python",
   "name": "python",
   "nbconvert_exporter": "python",
   "pygments_lexer": "ipython3",
   "version": "3.11.5"
  }
 },
 "nbformat": 4,
 "nbformat_minor": 2
}
